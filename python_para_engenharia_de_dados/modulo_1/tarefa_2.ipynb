{
 "cells": [
  {
   "cell_type": "markdown",
   "id": "8ed52ea9",
   "metadata": {},
   "source": [
    "# Tarefa 2"
   ]
  },
  {
   "cell_type": "code",
   "execution_count": 2,
   "id": "870ef10b",
   "metadata": {},
   "outputs": [],
   "source": [
    "import random"
   ]
  },
  {
   "cell_type": "code",
   "execution_count": 3,
   "id": "d8856c7b",
   "metadata": {},
   "outputs": [
    {
     "name": "stdout",
     "output_type": "stream",
     "text": [
      "Números ordenados: [10, 32, 35, 39, 43, 49, 51, 77, 77, 92]\n"
     ]
    }
   ],
   "source": [
    "def gerar_e_ordenar_numeros():\n",
    "    num = [random.randint(1, 100) for _ in range(10)]\n",
    "    num.sort()\n",
    "    print(f'Números ordenados: {num}')\n",
    "\n",
    "\n",
    "gerar_e_ordenar_numeros()"
   ]
  },
  {
   "cell_type": "code",
   "execution_count": 4,
   "id": "b408a83c",
   "metadata": {},
   "outputs": [
    {
     "name": "stdout",
     "output_type": "stream",
     "text": [
      "Os números sorteados da Mega-Sena são: [19, 32, 34, 40, 52, 53]\n"
     ]
    }
   ],
   "source": [
    "def sorteio_mega_sena():\n",
    "    num_disponiveis = list(range(1, 61))\n",
    "    num_sorteados = random.sample(num_disponiveis, 6)\n",
    "    num_sorteados.sort()\n",
    "    return num_sorteados\n",
    "\n",
    "\n",
    "resultado = sorteio_mega_sena()\n",
    "print(f'Os números sorteados da Mega-Sena são: {resultado}')"
   ]
  },
  {
   "cell_type": "code",
   "execution_count": 5,
   "id": "276c4085",
   "metadata": {},
   "outputs": [
    {
     "name": "stdout",
     "output_type": "stream",
     "text": [
      "A média dos 10 números aleatórios gerados é: 334.90\n"
     ]
    }
   ],
   "source": [
    "def calcular_media_numeros_aleatorios(qtd):\n",
    "    if qtd <= 0:\n",
    "        return 0.0\n",
    "    list_num = [random.randint(1, 500) for _ in range(n)]\n",
    "    soma = sum(list_num)\n",
    "    media = soma / qtd\n",
    "    return media\n",
    "\n",
    "\n",
    "qtd = 10\n",
    "media = calcular_media_numeros_aleatorios(qtd)\n",
    "print(f'A média dos {qtd} números aleatórios gerados é: {media:.2f}')"
   ]
  },
  {
   "cell_type": "code",
   "execution_count": 6,
   "id": "d0bf9642",
   "metadata": {},
   "outputs": [
    {
     "name": "stdout",
     "output_type": "stream",
     "text": [
      "O número de salários acima de R$ 10.000 é: 4\n"
     ]
    }
   ],
   "source": [
    "def contar_salarios(salarios_por_profissao):\n",
    "    contador = 0\n",
    "    for salario in salarios_por_profissao.values():\n",
    "        if salario > 10000:\n",
    "            contador += 1\n",
    "    return contador\n",
    "\n",
    "\n",
    "profissoes = {\n",
    "    'Dev': 12000,\n",
    "    'Designer': 6500,\n",
    "    'Analista de Dados': 11500,\n",
    "    'Engenheiro': 15000,\n",
    "    'Jornalista': 5800,\n",
    "    'Arquiteto': 22000\n",
    "}\n",
    "\n",
    "qtd = contar_salarios(profissoes)\n",
    "print(f'O número de salários acima de R$ 10.000 é: {qtd}')"
   ]
  },
  {
   "cell_type": "code",
   "execution_count": 7,
   "id": "f1251090",
   "metadata": {},
   "outputs": [
    {
     "name": "stdout",
     "output_type": "stream",
     "text": [
      "Números gerados: 4\n",
      "Total de números pares: 1\n",
      "Total de números ímpares: 0\n"
     ]
    }
   ],
   "source": [
    "def contar_pares_e_impares():\n",
    "    pares = 0\n",
    "    impares = 0\n",
    "    for _ in range(20):\n",
    "        num = random.randint(1, 100)\n",
    "    print(f'Números gerados: {num}')\n",
    "\n",
    "    if num % 2 == 0:\n",
    "        pares += 1\n",
    "    else:\n",
    "        impares += 1\n",
    "\n",
    "    return pares, impares\n",
    "\n",
    "\n",
    "total_pares, total_impares = contar_pares_e_impares()\n",
    "print(f'Total de números pares: {total_pares}')\n",
    "print(f'Total de números ímpares: {total_impares}')"
   ]
  },
  {
   "cell_type": "code",
   "execution_count": 8,
   "id": "fdef1ccf",
   "metadata": {},
   "outputs": [
    {
     "name": "stdout",
     "output_type": "stream",
     "text": [
      "Produtos em falta:\n",
      "\n",
      "- Mouse Pad XXL\n",
      "- Monitor Ultrawide\n",
      "- Webcam HD\n"
     ]
    }
   ],
   "source": [
    "def verificar_estoque(estoque):\n",
    "    produtos_em_falta = []\n",
    "    for produto, quantidade in estoque.items():\n",
    "        if quantidade == 0:\n",
    "            produtos_em_falta.append(produto)\n",
    "\n",
    "    if not produtos_em_falta:\n",
    "        print('Todos os produtos estão em estoque!')\n",
    "    else:\n",
    "        print('Produtos em falta:\\n')\n",
    "        for produto in produtos_em_falta:\n",
    "            print(f'- {produto}')\n",
    "\n",
    "\n",
    "estoque_da_loja = {\n",
    "    'Notebook': 5,\n",
    "    'Mouse': 0,\n",
    "    'Teclado': 3,\n",
    "    'Monitor': 0,\n",
    "    'Headset': 12,\n",
    "    'Webcam': 0\n",
    "}\n",
    "\n",
    "verificar_estoque(estoque_da_loja)"
   ]
  },
  {
   "cell_type": "code",
   "execution_count": null,
   "id": "f4b440b8",
   "metadata": {},
   "outputs": [],
   "source": [
    "def jogo_de_adivinhacao():\n",
    "    num = random.randint(1, 20)\n",
    "    tentativas = 0\n",
    "    print('Bem-vindo ao jogo de adivinhação!')\n",
    "    print('Estou pensando em um número entre 1 e 20. Tente adivinhar qual é.')\n",
    "    while True:\n",
    "        try:\n",
    "            palpite = int(input('Digite seu palpite: '))\n",
    "            tentativas += 1\n",
    "            \n",
    "            if palpite < num:\n",
    "              print('Seu palpite é muito baixo. Tente um número maior.')\n",
    "            elif palpite > num:\n",
    "              print('Seu palpite é muito alto. Tente um número menor.')\n",
    "            else:\n",
    "              print(f'Parabéns! Você acertou o número secreto ({num}) em {tentativas} tentativas!')\n",
    "              break \n",
    "            \n",
    "        except ValueError:\n",
    "            print('Entrada inválida. Por favor, digite um número inteiro.')\n",
    "\n",
    "\n",
    "jogo_de_adivinhacao()"
   ]
  },
  {
   "cell_type": "code",
   "execution_count": 3,
   "id": "b34cf649",
   "metadata": {},
   "outputs": [
    {
     "name": "stdout",
     "output_type": "stream",
     "text": [
      "Notas dos alunos:\n",
      "\n",
      "Ana: 9.5\n",
      "Bruno: 7.0\n",
      "Carla: 8.5\n",
      "Daniel: 6.5\n",
      "Elisa: 10.0\n"
     ]
    }
   ],
   "source": [
    "def mostrar_notas_alunos(notas_alunos):\n",
    "    print('Notas dos alunos:\\n')\n",
    "    for nome, nota in notas_alunos.items():\n",
    "        print(f'{nome}: {nota}')\n",
    "\n",
    "\n",
    "alunos_e_notas = {\n",
    "    'Ana': 9.5,\n",
    "    'Bruno': 7.0,\n",
    "    'Carla': 8.5,\n",
    "    'Daniel': 6.5,\n",
    "    'Elisa': 10.0\n",
    "}\n",
    "\n",
    "mostrar_notas_alunos(alunos_e_notas)"
   ]
  }
 ],
 "metadata": {
  "kernelspec": {
   "display_name": "Python 3",
   "language": "python",
   "name": "python3"
  },
  "language_info": {
   "codemirror_mode": {
    "name": "ipython",
    "version": 3
   },
   "file_extension": ".py",
   "mimetype": "text/x-python",
   "name": "python",
   "nbconvert_exporter": "python",
   "pygments_lexer": "ipython3",
   "version": "3.13.2"
  }
 },
 "nbformat": 4,
 "nbformat_minor": 5
}
