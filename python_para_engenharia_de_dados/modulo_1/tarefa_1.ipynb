{
 "cells": [
  {
   "cell_type": "markdown",
   "id": "31bed688",
   "metadata": {},
   "source": [
    "# Tarefa 1"
   ]
  },
  {
   "cell_type": "code",
   "execution_count": 4,
   "id": "641e21c5",
   "metadata": {},
   "outputs": [
    {
     "name": "stdout",
     "output_type": "stream",
     "text": [
      "Hello, World!\n"
     ]
    }
   ],
   "source": [
    "import time\n",
    "\n",
    "text = 'Hello, World!'\n",
    "\n",
    "for i in text:\n",
    "    print(i, end='', flush=True)\n",
    "    time.sleep(0.1)\n",
    "\n",
    "print()"
   ]
  },
  {
   "cell_type": "code",
   "execution_count": null,
   "id": "fec40ab5",
   "metadata": {},
   "outputs": [
    {
     "name": "stdout",
     "output_type": "stream",
     "text": [
      "O número informado foi [5]\n"
     ]
    }
   ],
   "source": [
    "num = input('Digite um número: ')\n",
    "print(f'O número informado foi {num}')"
   ]
  },
  {
   "cell_type": "code",
   "execution_count": null,
   "id": "67436d2d",
   "metadata": {},
   "outputs": [],
   "source": [
    "item_1 = input('Digite o nome do Item 1: ')\n",
    "qtd_1 = input('Digite a quantidade do Item 1: ')\n",
    "\n",
    "item_2 = input('Digite o nome do Item 2: ')\n",
    "qtd_2 = input('Digite a quantidade do Item 2: ')\n",
    "\n",
    "item_3 = input('Digite o nome do Item 3: ')\n",
    "qtd_3 = input('Digite a quantidade do Item 3: ')\n",
    "\n",
    "item_4 = input('Digite o nome do Item 4: ')\n",
    "qtd_4 = input('Digite a quantidade do Item 4: ')\n",
    "\n",
    "item_5 = input('Digite o nome do Item 5: ')\n",
    "qtd_5 = input('Digite a quantidade do Item 5: ')\n",
    "\n",
    "print(f'\\n{item_1} - Quantidade: {qtd_1}')\n",
    "print(f'{item_2} - Quantidade: {qtd_2}')\n",
    "print(f'{item_3} - Quantidade: {qtd_3}')\n",
    "print(f'{item_4} - Quantidade: {qtd_4}')\n",
    "print(f'{item_5} - Quantidade: {qtd_5}')"
   ]
  },
  {
   "cell_type": "code",
   "execution_count": null,
   "id": "af052b0e",
   "metadata": {},
   "outputs": [
    {
     "name": "stdout",
     "output_type": "stream",
     "text": [
      "A fruta 1 custa 1.00\n",
      "A fruta 2 custa 2.00\n",
      "A fruta 3 custa 0.50\n",
      "A fruta 4 custa 1.50\n",
      "A fruta 5 custa 0.75\n"
     ]
    }
   ],
   "source": [
    "fruta_1 = 1.00\n",
    "fruta_2 = fruta_1 * 2\n",
    "fruta_3 = fruta_1 / 2\n",
    "fruta_4 = fruta_3 * 3\n",
    "fruta_5 = fruta_4 / 2\n",
    "\n",
    "print(f'A fruta 1 custa {fruta_1:.2f}')\n",
    "print(f'A fruta 2 custa {fruta_2:.2f}')\n",
    "print(f'A fruta 3 custa {fruta_3:.2f}')\n",
    "print(f'A fruta 4 custa {fruta_4:.2f}')\n",
    "print(f'A fruta 5 custa {fruta_5:.2f}')"
   ]
  }
 ],
 "metadata": {
  "kernelspec": {
   "display_name": "Python 3",
   "language": "python",
   "name": "python3"
  },
  "language_info": {
   "codemirror_mode": {
    "name": "ipython",
    "version": 3
   },
   "file_extension": ".py",
   "mimetype": "text/x-python",
   "name": "python",
   "nbconvert_exporter": "python",
   "pygments_lexer": "ipython3",
   "version": "3.13.2"
  }
 },
 "nbformat": 4,
 "nbformat_minor": 5
}
