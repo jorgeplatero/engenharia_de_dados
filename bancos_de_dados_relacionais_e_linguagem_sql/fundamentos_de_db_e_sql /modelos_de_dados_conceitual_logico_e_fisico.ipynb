{
 "cells": [
  {
   "cell_type": "markdown",
   "id": "f3c0da6a",
   "metadata": {},
   "source": [
    "### Definindo modelo conceitual"
   ]
  },
  {
   "cell_type": "markdown",
   "id": "b943dba2",
   "metadata": {},
   "source": [
    "1.Uma empresa é dividida em departamentos, que são identificados por um número e um nome e podem ter diversas localizações\n",
    "\n",
    "2.Cada departamento possui diversos funcionários trabalhando para ele e é necessário saber o número de funcionários de cada departamento\n",
    "\n",
    "3.Cada funcionário precisa ter os seguintes dados: nome (primeiro, meio, último), CPF, endereço, salário, sexo e data de nascimento\n",
    "\n",
    "4.É necessário conhecer os dependentes de um funcionário, sendo que para cada dependente é preciso saber o nome, sexo, data de nascimento e grau de parentesco com o funcionário\n",
    "\n",
    "5.Um funcionário pode gerenciar um departamento; a data em que um funcionário se torna gerente do departamento deve ficar registrada\n",
    "\n",
    "6.Cada departamento controla uma certa quantidade de projetos\n",
    "\n",
    "7.Os projetos possuem um nome único, código único e uma localização\n",
    "\n",
    "8.Cada funcionário pode trabalhar um número de horas semanais em projetos\n",
    "\n",
    "9.É necessário saber o supervisor de cada funcionário"
   ]
  },
  {
   "cell_type": "markdown",
   "id": "4c6f18b3",
   "metadata": {},
   "source": [
    "<img src='img/modelo_conceitual.png'>"
   ]
  },
  {
   "cell_type": "markdown",
   "id": "ad30646d",
   "metadata": {},
   "source": [
    "### Definindo modelo lógico"
   ]
  },
  {
   "cell_type": "markdown",
   "id": "c4fed071",
   "metadata": {},
   "source": []
  },
  {
   "cell_type": "markdown",
   "id": "166736ea",
   "metadata": {},
   "source": [
    "### Definindo modelo físico"
   ]
  },
  {
   "cell_type": "markdown",
   "id": "b939b0f2",
   "metadata": {},
   "source": []
  }
 ],
 "metadata": {
  "language_info": {
   "name": "python"
  }
 },
 "nbformat": 4,
 "nbformat_minor": 5
}
