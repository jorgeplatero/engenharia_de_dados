{
 "cells": [
  {
   "cell_type": "markdown",
   "id": "d3b70c06",
   "metadata": {},
   "source": [
    "### Polimorfismo"
   ]
  },
  {
   "cell_type": "code",
   "execution_count": 1,
   "id": "172a5f77",
   "metadata": {},
   "outputs": [],
   "source": [
    "class Automovel:\n",
    "   \n",
    "    def __init__(self):\n",
    "        self.ano = 0\n",
    "        self.modelo = \"\"\n",
    "        self.chassi = \"\"\n",
    "        self.marca = \"\"\n",
    "        self.cor = \"\"\n",
    "        self.placa = \"\"\n",
    " \n",
    "    def ligar(self):\n",
    "        print(\"Carro ligando ....\")\n",
    " \n",
    "    def desligar(self):\n",
    "        print(\"Carro desligando ....\")\n",
    " \n",
    "    def acelerar(self):\n",
    "        print(\"Carro acelerando ....\")\n",
    " \n",
    "    def frear(self):\n",
    "        print(\"Carro freiando ....\")  \n",
    " \n",
    "    def travar_portas(self):\n",
    "        print(\"Portas Travadas ....\")    \n",
    " \n",
    "    def imprimir(self):\n",
    "        print(\"Marca ....: \", self.marca)\n",
    "        print(\"Modelo ...: \", self.modelo)\n",
    "        print(\"Ano ......: \", self.ano)\n",
    "        print(\"Cor ......: \", self.cor)\n",
    "        print(\"Chassi ...: \", self.chassi)\n",
    "        print(\"Chassi ...: \", self.placa)"
   ]
  },
  {
   "cell_type": "code",
   "execution_count": null,
   "id": "3ebccec6",
   "metadata": {},
   "outputs": [],
   "source": [
    "#from Automovel import Automovel\n",
    " \n",
    "\n",
    "class AutomovelCarga(Automovel):\n",
    " \n",
    "    def __init__(self):\n",
    "        super().__init__()\n",
    "        self.capacidade_carga = 0.0\n",
    "        self.qtde_eixos = 0\n",
    " \n",
    "    def ligar(self, qtde_eixos):\n",
    "        self.qtde_eixos\n",
    "        print(\"Caminhão ligando numero de eixos =\" , self.qtde_eixos)\n",
    " \n",
    "    def desligar(self):\n",
    "        print(\"Caminhão desligando ....\")\n",
    " \n",
    "#from Automovel import Automovel\n",
    "#from AutomovelCarga import AutomovelCarga\n",
    " \n",
    "\n",
    "c = AutomovelCarga()\n",
    "c.marca =  input(\"Informe a Marca do veiculo:\")\n",
    "c.modelo =  input(\"Informe o Modelo do veiculo:\")\n",
    "c.ano =  input(\"Informe o ano do veiculo:\")\n",
    "c.chassi =  input(\"Informe a Chassi do veiculo:\")\n",
    "c.cor =  input(\"Informe a Cor do veiculo:\")\n",
    "c.placa =  input(\"Informe a Placa do veiculo:\")\n",
    "c.qtde_eixos = input(\"Informe a Qtde de Eixos do Veiculo:\")\n",
    "c.capacidade_carga = input(\"Informe a capacidade de carga do Veiculo:\")\n",
    "c.ligar(c.qtde_eixos)\n",
    "c.desligar()\n",
    "c.imprimir()"
   ]
  },
  {
   "cell_type": "markdown",
   "id": "a56f14fc",
   "metadata": {},
   "source": [
    "### Exercício"
   ]
  },
  {
   "cell_type": "code",
   "execution_count": null,
   "id": "f1ec7a81",
   "metadata": {},
   "outputs": [],
   "source": []
  }
 ],
 "metadata": {
  "kernelspec": {
   "display_name": "Python 3",
   "language": "python",
   "name": "python3"
  },
  "language_info": {
   "codemirror_mode": {
    "name": "ipython",
    "version": 3
   },
   "file_extension": ".py",
   "mimetype": "text/x-python",
   "name": "python",
   "nbconvert_exporter": "python",
   "pygments_lexer": "ipython3",
   "version": "3.13.2"
  }
 },
 "nbformat": 4,
 "nbformat_minor": 5
}
